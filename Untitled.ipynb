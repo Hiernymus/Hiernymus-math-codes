{
 "cells": [
  {
   "cell_type": "code",
   "execution_count": 4,
   "id": "7d5fccec",
   "metadata": {},
   "outputs": [
    {
     "name": "stdout",
     "output_type": "stream",
     "text": [
      "217600\n"
     ]
    }
   ],
   "source": [
    "print((5*200+88)*200)"
   ]
  },
  {
   "cell_type": "code",
   "execution_count": null,
   "id": "9b53d868",
   "metadata": {},
   "outputs": [],
   "source": [
    "print(17600)"
   ]
  }
 ],
 "metadata": {
  "kernelspec": {
   "display_name": "SageMath 9.5",
   "language": "sage",
   "name": "sagemath"
  },
  "language_info": {
   "codemirror_mode": {
    "name": "ipython",
    "version": 3
   },
   "file_extension": ".py",
   "mimetype": "text/x-python",
   "name": "python",
   "nbconvert_exporter": "python",
   "pygments_lexer": "ipython3",
   "version": "3.11.2"
  }
 },
 "nbformat": 4,
 "nbformat_minor": 5
}
